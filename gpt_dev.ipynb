{
  "nbformat": 4,
  "nbformat_minor": 0,
  "metadata": {
    "colab": {
      "provenance": [],
      "include_colab_link": true
    },
    "kernelspec": {
      "name": "python3",
      "display_name": "Python 3"
    },
    "language_info": {
      "name": "python"
    }
  },
  "cells": [
    {
      "cell_type": "markdown",
      "metadata": {
        "id": "view-in-github",
        "colab_type": "text"
      },
      "source": [
        "<a href=\"https://colab.research.google.com/github/w3slee/Android-Hooking/blob/master/gpt_dev.ipynb\" target=\"_parent\"><img src=\"https://colab.research.google.com/assets/colab-badge.svg\" alt=\"Open In Colab\"/></a>"
      ]
    },
    {
      "cell_type": "markdown",
      "source": [
        "## Building a GPT\n",
        "\n",
        "Companion notebook to the [Zero To Hero](https://karpathy.ai/zero-to-hero.html) video on GPT."
      ],
      "metadata": {
        "id": "wJpXpmjEYC_T"
      }
    },
    {
      "cell_type": "code",
      "execution_count": 2,
      "metadata": {
        "colab": {
          "base_uri": "https://localhost:8080/"
        },
        "id": "h5hjCcLDr2WC",
        "outputId": "3add9b77-d992-40ff-f5f5-517e9075815e"
      },
      "outputs": [
        {
          "output_type": "stream",
          "name": "stdout",
          "text": [
            "--2023-10-14 19:00:56--  https://github.com/w3slee/kadinali/blob/master/wakadinali.txt\n",
            "Resolving github.com (github.com)... 140.82.114.4\n",
            "Connecting to github.com (github.com)|140.82.114.4|:443... connected.\n",
            "HTTP request sent, awaiting response... 200 OK\n",
            "Length: 65270 (64K) [text/plain]\n",
            "Saving to: ‘wakadinali.txt’\n",
            "\n",
            "\rwakadinali.txt        0%[                    ]       0  --.-KB/s               \rwakadinali.txt      100%[===================>]  63.74K  --.-KB/s    in 0.03s   \n",
            "\n",
            "2023-10-14 19:00:57 (2.47 MB/s) - ‘wakadinali.txt’ saved [65270/65270]\n",
            "\n"
          ]
        }
      ],
      "source": [
        "# We always start with a dataset to train on. Let's download the tiny shakespeare dataset\n",
        "!wget https://github.com/w3slee/kadinali/blob/master/wakadinali.txt"
      ]
    },
    {
      "cell_type": "code",
      "source": [
        "# read it in to inspect it\n",
        "with open('wakadinali.txt', 'r', encoding='utf-8') as f:\n",
        "    text = f.read()"
      ],
      "metadata": {
        "id": "O6medjfRsLD9"
      },
      "execution_count": 4,
      "outputs": []
    },
    {
      "cell_type": "code",
      "source": [
        "print(\"length of dataset in characters: \", len(text))"
      ],
      "metadata": {
        "colab": {
          "base_uri": "https://localhost:8080/"
        },
        "id": "6xWI_VyAsN8F",
        "outputId": "1474b590-53a3-4299-8a97-d43d1dd5e7e4"
      },
      "execution_count": 5,
      "outputs": [
        {
          "output_type": "stream",
          "name": "stdout",
          "text": [
            "length of dataset in characters:  65173\n"
          ]
        }
      ]
    },
    {
      "cell_type": "code",
      "source": [
        "# let's look at the first 1000 characters\n",
        "print(text[:1000])"
      ],
      "metadata": {
        "colab": {
          "base_uri": "https://localhost:8080/"
        },
        "id": "2c5V0FvqseE0",
        "outputId": "708ac0fa-04e4-4587-ef83-ea66d3d82937"
      },
      "execution_count": 6,
      "outputs": [
        {
          "output_type": "stream",
          "name": "stdout",
          "text": [
            "{\"payload\":{\"allShortcutsEnabled\":false,\"fileTree\":{\"\":{\"items\":[{\"name\":\"wakadinali.txt\",\"path\":\"wakadinali.txt\",\"contentType\":\"file\"}],\"totalCount\":1}},\"fileTreeProcessingTime\":1.645678,\"foldersToFetch\":[],\"reducedMotionEnabled\":null,\"repo\":{\"id\":705004737,\"defaultBranch\":\"master\",\"name\":\"kadinali\",\"ownerLogin\":\"w3slee\",\"currentUserCanPush\":false,\"isFork\":false,\"isEmpty\":false,\"createdAt\":\"2023-10-14T18:56:41.000Z\",\"ownerAvatar\":\"https://avatars.githubusercontent.com/u/52038396?v=4\",\"public\":true,\"private\":false,\"isOrgOwned\":false},\"symbolsExpanded\":false,\"treeExpanded\":true,\"refInfo\":{\"name\":\"master\",\"listCacheKey\":\"v0:1697310023.0\",\"canEdit\":false,\"refType\":\"branch\",\"currentOid\":\"b2802cf82cadf7b91ad0d4fec9a5f6bbd80b1a3e\"},\"path\":\"wakadinali.txt\",\"currentUser\":null,\"blob\":{\"rawLines\":[\"[Intro]\",\"(Afrvka)\",\"\",\"[Chorus: Munga Domani]\",\"Yeah, reputation ni same, gang ingemblein, ningekuja na ndeng'a\",\"I can't believe this day, nilitoka jail nikakujiwa na dem\",\"Hii ni ya day ones pekee,\n"
          ]
        }
      ]
    },
    {
      "cell_type": "code",
      "source": [
        "# here are all the unique characters that occur in this text\n",
        "chars = sorted(list(set(text)))\n",
        "vocab_size = len(chars)\n",
        "print(''.join(chars))\n",
        "print(vocab_size)"
      ],
      "metadata": {
        "colab": {
          "base_uri": "https://localhost:8080/"
        },
        "id": "0e-Rbyr8sfM8",
        "outputId": "34a2816e-2fe3-40f2-b6db-5044074fa297"
      },
      "execution_count": 7,
      "outputs": [
        {
          "output_type": "stream",
          "name": "stdout",
          "text": [
            " !\"#%&'()*,-./0123456789:=?ABCDEFGHIJKLMNOPQRSTUVWXYZ[\\]_abcdefghijklmnopqrstuvwxyz{}·úе —’… \n",
            "93\n"
          ]
        }
      ]
    },
    {
      "cell_type": "code",
      "source": [
        "# create a mapping from characters to integers\n",
        "stoi = { ch:i for i,ch in enumerate(chars) }\n",
        "itos = { i:ch for i,ch in enumerate(chars) }\n",
        "encode = lambda s: [stoi[c] for c in s] # encoder: take a string, output a list of integers\n",
        "decode = lambda l: ''.join([itos[i] for i in l]) # decoder: take a list of integers, output a string\n",
        "\n",
        "print(encode(\"tuko area\"))\n",
        "print(decode(encode(\"tuko area\")))"
      ],
      "metadata": {
        "colab": {
          "base_uri": "https://localhost:8080/"
        },
        "id": "Yw1LKNCgwjj1",
        "outputId": "ca0698a8-d32e-42cc-9323-8b551865b0c3"
      },
      "execution_count": 9,
      "outputs": [
        {
          "output_type": "stream",
          "name": "stdout",
          "text": [
            "[76, 77, 67, 71, 0, 57, 74, 61, 57]\n",
            "tuko area\n"
          ]
        }
      ]
    },
    {
      "cell_type": "code",
      "source": [
        "# let's now encode the entire text dataset and store it into a torch.Tensor\n",
        "import torch # we use PyTorch: https://pytorch.org\n",
        "data = torch.tensor(encode(text), dtype=torch.long)\n",
        "print(data.shape, data.dtype)\n",
        "print(data[:1000]) # the 1000 characters we looked at earier will to the GPT look like this"
      ],
      "metadata": {
        "colab": {
          "base_uri": "https://localhost:8080/"
        },
        "id": "YJb0OXPwzvqg",
        "outputId": "3ac99086-bfaa-4526-b4bc-df1e03bd80c5"
      },
      "execution_count": 10,
      "outputs": [
        {
          "output_type": "stream",
          "name": "stdout",
          "text": [
            "torch.Size([65173]) torch.int64\n",
            "tensor([83,  2, 72, 57, 81, 68, 71, 57, 60,  2, 24, 83,  2, 57, 68, 68, 45, 64,\n",
            "        71, 74, 76, 59, 77, 76, 75, 31, 70, 57, 58, 68, 61, 60,  2, 24, 62, 57,\n",
            "        68, 75, 61, 10,  2, 62, 65, 68, 61, 46, 74, 61, 61,  2, 24, 83,  2,  2,\n",
            "        24, 83,  2, 65, 76, 61, 69, 75,  2, 24, 53, 83,  2, 70, 57, 69, 61,  2,\n",
            "        24,  2, 79, 57, 67, 57, 60, 65, 70, 57, 68, 65, 12, 76, 80, 76,  2, 10,\n",
            "         2, 72, 57, 76, 64,  2, 24,  2, 79, 57, 67, 57, 60, 65, 70, 57, 68, 65,\n",
            "        12, 76, 80, 76,  2, 10,  2, 59, 71, 70, 76, 61, 70, 76, 46, 81, 72, 61,\n",
            "         2, 24,  2, 62, 65, 68, 61,  2, 84, 55, 10,  2, 76, 71, 76, 57, 68, 29,\n",
            "        71, 77, 70, 76,  2, 24, 15, 84, 84, 10,  2, 62, 65, 68, 61, 46, 74, 61,\n",
            "        61, 42, 74, 71, 59, 61, 75, 75, 65, 70, 63, 46, 65, 69, 61,  2, 24, 15,\n",
            "        12, 20, 18, 19, 20, 21, 22, 10,  2, 62, 71, 68, 60, 61, 74, 75, 46, 71,\n",
            "        32, 61, 76, 59, 64,  2, 24, 53, 55, 10,  2, 74, 61, 60, 77, 59, 61, 60,\n",
            "        39, 71, 76, 65, 71, 70, 31, 70, 57, 58, 68, 61, 60,  2, 24, 70, 77, 68,\n",
            "        68, 10,  2, 74, 61, 72, 71,  2, 24, 83,  2, 65, 60,  2, 24, 21, 14, 19,\n",
            "        14, 14, 18, 21, 17, 21, 10,  2, 60, 61, 62, 57, 77, 68, 76, 28, 74, 57,\n",
            "        70, 59, 64,  2, 24,  2, 69, 57, 75, 76, 61, 74,  2, 10,  2, 70, 57, 69,\n",
            "        61,  2, 24,  2, 67, 57, 60, 65, 70, 57, 68, 65,  2, 10,  2, 71, 79, 70,\n",
            "        61, 74, 38, 71, 63, 65, 70,  2, 24,  2, 79, 17, 75, 68, 61, 61,  2, 10,\n",
            "         2, 59, 77, 74, 74, 61, 70, 76, 47, 75, 61, 74, 29, 57, 70, 42, 77, 75,\n",
            "        64,  2, 24, 62, 57, 68, 75, 61, 10,  2, 65, 75, 32, 71, 74, 67,  2, 24,\n",
            "        62, 57, 68, 75, 61, 10,  2, 65, 75, 31, 69, 72, 76, 81,  2, 24, 62, 57,\n",
            "        68, 75, 61, 10,  2, 59, 74, 61, 57, 76, 61, 60, 27, 76,  2, 24,  2, 16,\n",
            "        14, 16, 17, 11, 15, 14, 11, 15, 18, 46, 15, 22, 24, 19, 20, 24, 18, 15,\n",
            "        12, 14, 14, 14, 52,  2, 10,  2, 71, 79, 70, 61, 74, 27, 78, 57, 76, 57,\n",
            "        74,  2, 24,  2, 64, 76, 76, 72, 75, 24, 13, 13, 57, 78, 57, 76, 57, 74,\n",
            "        75, 12, 63, 65, 76, 64, 77, 58, 77, 75, 61, 74, 59, 71, 70, 76, 61, 70,\n",
            "        76, 12, 59, 71, 69, 13, 77, 13, 19, 16, 14, 17, 22, 17, 23, 20, 26, 78,\n",
            "        25, 18,  2, 10,  2, 72, 77, 58, 68, 65, 59,  2, 24, 76, 74, 77, 61, 10,\n",
            "         2, 72, 74, 65, 78, 57, 76, 61,  2, 24, 62, 57, 68, 75, 61, 10,  2, 65,\n",
            "        75, 41, 74, 63, 41, 79, 70, 61, 60,  2, 24, 62, 57, 68, 75, 61, 84, 10,\n",
            "         2, 75, 81, 69, 58, 71, 68, 75, 31, 80, 72, 57, 70, 60, 61, 60,  2, 24,\n",
            "        62, 57, 68, 75, 61, 10,  2, 76, 74, 61, 61, 31, 80, 72, 57, 70, 60, 61,\n",
            "        60,  2, 24, 76, 74, 77, 61, 10,  2, 74, 61, 62, 35, 70, 62, 71,  2, 24,\n",
            "        83,  2, 70, 57, 69, 61,  2, 24,  2, 69, 57, 75, 76, 61, 74,  2, 10,  2,\n",
            "        68, 65, 75, 76, 29, 57, 59, 64, 61, 37, 61, 81,  2, 24,  2, 78, 14, 24,\n",
            "        15, 20, 23, 21, 17, 15, 14, 14, 16, 17, 12, 14,  2, 10,  2, 59, 57, 70,\n",
            "        31, 60, 65, 76,  2, 24, 62, 57, 68, 75, 61, 10,  2, 74, 61, 62, 46, 81,\n",
            "        72, 61,  2, 24,  2, 58, 74, 57, 70, 59, 64,  2, 10,  2, 59, 77, 74, 74,\n",
            "        61, 70, 76, 41, 65, 60,  2, 24,  2, 58, 16, 22, 14, 16, 59, 62, 22, 16,\n",
            "        59, 57, 60, 62, 21, 58, 23, 15, 57, 60, 14, 60, 18, 62, 61, 59, 23, 57,\n",
            "        19, 62, 20, 58, 58, 60, 22, 14, 58, 15, 57, 17, 61,  2, 84, 10,  2, 72,\n",
            "        57, 76, 64,  2, 24,  2, 79, 57, 67, 57, 60, 65, 70, 57, 68, 65, 12, 76,\n",
            "        80, 76,  2, 10,  2, 59, 77, 74, 74, 61, 70, 76, 47, 75, 61, 74,  2, 24,\n",
            "        70, 77, 68, 68, 10,  2, 58, 68, 71, 58,  2, 24, 83,  2, 74, 57, 79, 38,\n",
            "        65, 70, 61, 75,  2, 24, 53,  2, 53, 35, 70, 76, 74, 71, 55,  2, 10,  2,\n",
            "         7, 27, 62, 74, 78, 67, 57,  8,  2, 10,  2,  2, 10,  2, 53, 29, 64, 71,\n",
            "        74, 77, 75, 24,  0, 39, 77, 70, 63, 57,  0, 30, 71, 69, 57, 70, 65, 55,\n",
            "         2, 10,  2, 51, 61, 57, 64, 10,  0, 74, 61, 72, 77, 76, 57, 76, 65, 71,\n",
            "        70,  0, 70, 65,  0, 75, 57, 69, 61, 10,  0, 63, 57, 70, 63,  0, 65, 70,\n",
            "        63, 61, 69, 58, 68, 61, 65, 70, 10,  0, 70, 65, 70, 63, 61, 67, 77, 66,\n",
            "        57,  0, 70, 57,  0, 70, 60, 61, 70, 63,  6, 57,  2, 10,  2, 35,  0, 59,\n",
            "        57, 70,  6, 76,  0, 58, 61, 68, 65, 61, 78, 61,  0, 76, 64, 65, 75,  0,\n",
            "        60, 57, 81, 10,  0, 70, 65, 68, 65, 76, 71, 67, 57,  0, 66, 57, 65, 68,\n",
            "         0, 70, 65, 67, 57, 67, 77, 66, 65, 79, 57,  0, 70, 57,  0, 60, 61, 69,\n",
            "         2, 10,  2, 34, 65, 65,  0, 70, 65,  0, 81, 57,  0, 60, 57, 81,  0, 71,\n",
            "        70, 61, 75,  0, 72, 61, 67, 61, 61, 10])\n"
          ]
        }
      ]
    },
    {
      "cell_type": "code",
      "source": [
        "# Let's now split up the data into train and validation sets\n",
        "n = int(0.9*len(data)) # first 90% will be train, rest val\n",
        "train_data = data[:n]\n",
        "val_data = data[n:]"
      ],
      "metadata": {
        "id": "f_WIXqxz0lU5"
      },
      "execution_count": 11,
      "outputs": []
    },
    {
      "cell_type": "code",
      "source": [
        "block_size = 8\n",
        "train_data[:block_size+1]"
      ],
      "metadata": {
        "colab": {
          "base_uri": "https://localhost:8080/"
        },
        "id": "TD5Bj8Y6IAD4",
        "outputId": "a2902b4c-f14a-444f-869b-102a5a0f6ee8"
      },
      "execution_count": 12,
      "outputs": [
        {
          "output_type": "execute_result",
          "data": {
            "text/plain": [
              "tensor([83,  2, 72, 57, 81, 68, 71, 57, 60])"
            ]
          },
          "metadata": {},
          "execution_count": 12
        }
      ]
    },
    {
      "cell_type": "code",
      "source": [
        "x = train_data[:block_size]\n",
        "y = train_data[1:block_size+1]\n",
        "for t in range(block_size):\n",
        "    context = x[:t+1]\n",
        "    target = y[t]\n",
        "    print(f\"when input is {context} the target: {target}\")"
      ],
      "metadata": {
        "colab": {
          "base_uri": "https://localhost:8080/"
        },
        "id": "9HXDe8vGJCEn",
        "outputId": "4f72e424-5a43-4f62-8c4b-680b6cf4c751"
      },
      "execution_count": 13,
      "outputs": [
        {
          "output_type": "stream",
          "name": "stdout",
          "text": [
            "when input is tensor([83]) the target: 2\n",
            "when input is tensor([83,  2]) the target: 72\n",
            "when input is tensor([83,  2, 72]) the target: 57\n",
            "when input is tensor([83,  2, 72, 57]) the target: 81\n",
            "when input is tensor([83,  2, 72, 57, 81]) the target: 68\n",
            "when input is tensor([83,  2, 72, 57, 81, 68]) the target: 71\n",
            "when input is tensor([83,  2, 72, 57, 81, 68, 71]) the target: 57\n",
            "when input is tensor([83,  2, 72, 57, 81, 68, 71, 57]) the target: 60\n"
          ]
        }
      ]
    },
    {
      "cell_type": "code",
      "source": [
        "torch.manual_seed(1337)\n",
        "batch_size = 4 # how many independent sequences will we process in parallel?\n",
        "block_size = 8 # what is the maximum context length for predictions?\n",
        "\n",
        "def get_batch(split):\n",
        "    # generate a small batch of data of inputs x and targets y\n",
        "    data = train_data if split == 'train' else val_data\n",
        "    ix = torch.randint(len(data) - block_size, (batch_size,))\n",
        "    x = torch.stack([data[i:i+block_size] for i in ix])\n",
        "    y = torch.stack([data[i+1:i+block_size+1] for i in ix])\n",
        "    return x, y\n",
        "\n",
        "xb, yb = get_batch('train')\n",
        "print('inputs:')\n",
        "print(xb.shape)\n",
        "print(xb)\n",
        "print('targets:')\n",
        "print(yb.shape)\n",
        "print(yb)\n",
        "\n",
        "print('----')\n",
        "\n",
        "for b in range(batch_size): # batch dimension\n",
        "    for t in range(block_size): # time dimension\n",
        "        context = xb[b, :t+1]\n",
        "        target = yb[b,t]\n",
        "        print(f\"when input is {context.tolist()} the target: {target}\")"
      ],
      "metadata": {
        "colab": {
          "base_uri": "https://localhost:8080/"
        },
        "id": "Q3k1Czf7LuA9",
        "outputId": "d1ef260e-2f33-49ea-8f6a-e8d4731e9784"
      },
      "execution_count": 15,
      "outputs": [
        {
          "output_type": "stream",
          "name": "stdout",
          "text": [
            "inputs:\n",
            "torch.Size([4, 8])\n",
            "tensor([[69, 57, 74, 63, 57, 74, 65, 70],\n",
            "        [ 2, 27, 70, 57, 72, 61, 70, 60],\n",
            "        [82, 65, 10,  0, 68, 65, 62, 61],\n",
            "        [ 2, 10,  2, 27, 70, 57, 60, 57]])\n",
            "targets:\n",
            "torch.Size([4, 8])\n",
            "tensor([[57, 74, 63, 57, 74, 65, 70, 61],\n",
            "        [27, 70, 57, 72, 61, 70, 60, 57],\n",
            "        [65, 10,  0, 68, 65, 62, 61,  0],\n",
            "        [10,  2, 27, 70, 57, 60, 57, 65]])\n",
            "----\n",
            "when input is [69] the target: 57\n",
            "when input is [69, 57] the target: 74\n",
            "when input is [69, 57, 74] the target: 63\n",
            "when input is [69, 57, 74, 63] the target: 57\n",
            "when input is [69, 57, 74, 63, 57] the target: 74\n",
            "when input is [69, 57, 74, 63, 57, 74] the target: 65\n",
            "when input is [69, 57, 74, 63, 57, 74, 65] the target: 70\n",
            "when input is [69, 57, 74, 63, 57, 74, 65, 70] the target: 61\n",
            "when input is [2] the target: 27\n",
            "when input is [2, 27] the target: 70\n",
            "when input is [2, 27, 70] the target: 57\n",
            "when input is [2, 27, 70, 57] the target: 72\n",
            "when input is [2, 27, 70, 57, 72] the target: 61\n",
            "when input is [2, 27, 70, 57, 72, 61] the target: 70\n",
            "when input is [2, 27, 70, 57, 72, 61, 70] the target: 60\n",
            "when input is [2, 27, 70, 57, 72, 61, 70, 60] the target: 57\n",
            "when input is [82] the target: 65\n",
            "when input is [82, 65] the target: 10\n",
            "when input is [82, 65, 10] the target: 0\n",
            "when input is [82, 65, 10, 0] the target: 68\n",
            "when input is [82, 65, 10, 0, 68] the target: 65\n",
            "when input is [82, 65, 10, 0, 68, 65] the target: 62\n",
            "when input is [82, 65, 10, 0, 68, 65, 62] the target: 61\n",
            "when input is [82, 65, 10, 0, 68, 65, 62, 61] the target: 0\n",
            "when input is [2] the target: 10\n",
            "when input is [2, 10] the target: 2\n",
            "when input is [2, 10, 2] the target: 27\n",
            "when input is [2, 10, 2, 27] the target: 70\n",
            "when input is [2, 10, 2, 27, 70] the target: 57\n",
            "when input is [2, 10, 2, 27, 70, 57] the target: 60\n",
            "when input is [2, 10, 2, 27, 70, 57, 60] the target: 57\n",
            "when input is [2, 10, 2, 27, 70, 57, 60, 57] the target: 65\n"
          ]
        }
      ]
    },
    {
      "cell_type": "code",
      "source": [
        "print(xb) # our input to the transformer"
      ],
      "metadata": {
        "colab": {
          "base_uri": "https://localhost:8080/"
        },
        "id": "qpyyAeIzQjlO",
        "outputId": "df82c092-480b-42b3-ee1d-028400b9b4f9"
      },
      "execution_count": 16,
      "outputs": [
        {
          "output_type": "stream",
          "name": "stdout",
          "text": [
            "tensor([[69, 57, 74, 63, 57, 74, 65, 70],\n",
            "        [ 2, 27, 70, 57, 72, 61, 70, 60],\n",
            "        [82, 65, 10,  0, 68, 65, 62, 61],\n",
            "        [ 2, 10,  2, 27, 70, 57, 60, 57]])\n"
          ]
        }
      ]
    },
    {
      "cell_type": "code",
      "source": [
        "import torch\n",
        "import torch.nn as nn\n",
        "from torch.nn import functional as F\n",
        "torch.manual_seed(1337)\n",
        "\n",
        "class BigramLanguageModel(nn.Module):\n",
        "\n",
        "    def __init__(self, vocab_size):\n",
        "        super().__init__()\n",
        "        # each token directly reads off the logits for the next token from a lookup table\n",
        "        self.token_embedding_table = nn.Embedding(vocab_size, vocab_size)\n",
        "\n",
        "    def forward(self, idx, targets=None):\n",
        "\n",
        "        # idx and targets are both (B,T) tensor of integers\n",
        "        logits = self.token_embedding_table(idx) # (B,T,C)\n",
        "\n",
        "        if targets is None:\n",
        "            loss = None\n",
        "        else:\n",
        "            B, T, C = logits.shape\n",
        "            logits = logits.view(B*T, C)\n",
        "            targets = targets.view(B*T)\n",
        "            loss = F.cross_entropy(logits, targets)\n",
        "\n",
        "        return logits, loss\n",
        "\n",
        "    def generate(self, idx, max_new_tokens):\n",
        "        # idx is (B, T) array of indices in the current context\n",
        "        for _ in range(max_new_tokens):\n",
        "            # get the predictions\n",
        "            logits, loss = self(idx)\n",
        "            # focus only on the last time step\n",
        "            logits = logits[:, -1, :] # becomes (B, C)\n",
        "            # apply softmax to get probabilities\n",
        "            probs = F.softmax(logits, dim=-1) # (B, C)\n",
        "            # sample from the distribution\n",
        "            idx_next = torch.multinomial(probs, num_samples=1) # (B, 1)\n",
        "            # append sampled index to the running sequence\n",
        "            idx = torch.cat((idx, idx_next), dim=1) # (B, T+1)\n",
        "        return idx\n",
        "\n",
        "m = BigramLanguageModel(vocab_size)\n",
        "logits, loss = m(xb, yb)\n",
        "print(logits.shape)\n",
        "print(loss)\n",
        "\n",
        "print(decode(m.generate(idx = torch.zeros((1, 1), dtype=torch.long), max_new_tokens=100)[0].tolist()))\n"
      ],
      "metadata": {
        "colab": {
          "base_uri": "https://localhost:8080/"
        },
        "id": "nql_1ER53oCf",
        "outputId": "777fe304-0074-4b7f-e2c9-21fa819ffe9b"
      },
      "execution_count": 17,
      "outputs": [
        {
          "output_type": "stream",
          "name": "stdout",
          "text": [
            "torch.Size([32, 93])\n",
            "tensor(5.0017, grad_fn=<NllLossBackward0>)\n",
            " xGr)…]INyyO',Mz/m(Aе[)s?Hr{p]rQúK…PA7T*m]2W.A? 4LVmOww·rqF xUol4huXH#C’jqkOM\\}rt!0z8RQfhp{*l8ncUmu{:\n"
          ]
        }
      ]
    },
    {
      "cell_type": "code",
      "source": [
        "# create a PyTorch optimizer\n",
        "optimizer = torch.optim.AdamW(m.parameters(), lr=1e-3)"
      ],
      "metadata": {
        "id": "eTyJ8qAaDdiF"
      },
      "execution_count": 18,
      "outputs": []
    },
    {
      "cell_type": "code",
      "source": [
        "batch_size = 32\n",
        "for steps in range(100): # increase number of steps for good results...\n",
        "\n",
        "    # sample a batch of data\n",
        "    xb, yb = get_batch('train')\n",
        "\n",
        "    # evaluate the loss\n",
        "    logits, loss = m(xb, yb)\n",
        "    optimizer.zero_grad(set_to_none=True)\n",
        "    loss.backward()\n",
        "    optimizer.step()\n",
        "\n",
        "print(loss.item())\n"
      ],
      "metadata": {
        "colab": {
          "base_uri": "https://localhost:8080/"
        },
        "id": "Hs4kI8YdEkQj",
        "outputId": "793be4f1-ede3-4dcb-93e4-c2e48433182b"
      },
      "execution_count": 21,
      "outputs": [
        {
          "output_type": "stream",
          "name": "stdout",
          "text": [
            "4.642594337463379\n"
          ]
        }
      ]
    },
    {
      "cell_type": "code",
      "source": [
        "print(decode(m.generate(idx = torch.zeros((1, 1), dtype=torch.long), max_new_tokens=500)[0].tolist()))"
      ],
      "metadata": {
        "colab": {
          "base_uri": "https://localhost:8080/"
        },
        "id": "EcVIDWAZEtjN",
        "outputId": "25bed653-25c6-418f-c1c6-5d29ef5d6ac3"
      },
      "execution_count": 22,
      "outputs": [
        {
          "output_type": "stream",
          "name": "stdout",
          "text": [
            " 9%W9ne9n5VIH-Eai=j.-G )z#H69…2—GuafkQSlojQV?Su·n5…caеQjBmaBEAiAZ]3WRDiIU_'ú==,358V f{G-е’\\_aIUrw—MVH= 5unR{VCoxfGI]Bst·ú5qHú:w#x9[ym’uphtaH6fLea5Bú}.Z *zHXznúX45qlJn 9-cu·\",Ty,!=F6Pf_CеCMt]M{zZjnB b.ZFh&—/R—MVha\\?Yqtv3_AC)S5llsa \\=5Bc\\o4(0no7nNy,/lDz:-M:?—Gay ZO8\\Qs5Di/!SPO—yf)qúE:{&·!lb_=Fu!bKY/rPO}kJD7*WH=HеRF3X-d*cj4Z=b{údX&4?—h&·E2f9wVcgu·K#qR 2E0jSFoo8mKJ{9/Ezuh&Yplstkúl27{pyNLLp/aiwxK Lph*W0·%Pe·cR7(uG(diVmnqX,C ,Cm!tA?T·0Ewj)BE:Pz…GWqBNqkI,:m}{=F EHzcJGWbn) ea,…-gu?!Mq]o6,l—oHP9ddI]f&AkSL\n"
          ]
        }
      ]
    },
    {
      "cell_type": "markdown",
      "source": [
        "## The mathematical trick in self-attention"
      ],
      "metadata": {
        "id": "XinV8nmAnmKN"
      }
    },
    {
      "cell_type": "code",
      "source": [
        "# toy example illustrating how matrix multiplication can be used for a \"weighted aggregation\"\n",
        "torch.manual_seed(42)\n",
        "a = torch.tril(torch.ones(3, 3))\n",
        "a = a / torch.sum(a, 1, keepdim=True)\n",
        "b = torch.randint(0,10,(3,2)).float()\n",
        "c = a @ b\n",
        "print('a=')\n",
        "print(a)\n",
        "print('--')\n",
        "print('b=')\n",
        "print(b)\n",
        "print('--')\n",
        "print('c=')\n",
        "print(c)"
      ],
      "metadata": {
        "colab": {
          "base_uri": "https://localhost:8080/"
        },
        "id": "tukiH-NbRBhA",
        "outputId": "8b94c84b-80f0-4fdf-a03d-a59d9cf95130"
      },
      "execution_count": 23,
      "outputs": [
        {
          "output_type": "stream",
          "name": "stdout",
          "text": [
            "a=\n",
            "tensor([[1.0000, 0.0000, 0.0000],\n",
            "        [0.5000, 0.5000, 0.0000],\n",
            "        [0.3333, 0.3333, 0.3333]])\n",
            "--\n",
            "b=\n",
            "tensor([[2., 7.],\n",
            "        [6., 4.],\n",
            "        [6., 5.]])\n",
            "--\n",
            "c=\n",
            "tensor([[2.0000, 7.0000],\n",
            "        [4.0000, 5.5000],\n",
            "        [4.6667, 5.3333]])\n"
          ]
        }
      ]
    },
    {
      "cell_type": "code",
      "source": [
        "# consider the following toy example:\n",
        "\n",
        "torch.manual_seed(1337)\n",
        "B,T,C = 4,8,2 # batch, time, channels\n",
        "x = torch.randn(B,T,C)\n",
        "x.shape"
      ],
      "metadata": {
        "colab": {
          "base_uri": "https://localhost:8080/"
        },
        "id": "Hs_E24uRE8kr",
        "outputId": "cf0abce2-f156-4a69-b6b6-7413e7d8dbbc"
      },
      "execution_count": 24,
      "outputs": [
        {
          "output_type": "execute_result",
          "data": {
            "text/plain": [
              "torch.Size([4, 8, 2])"
            ]
          },
          "metadata": {},
          "execution_count": 24
        }
      ]
    },
    {
      "cell_type": "code",
      "source": [
        "# We want x[b,t] = mean_{i<=t} x[b,i]\n",
        "xbow = torch.zeros((B,T,C))\n",
        "for b in range(B):\n",
        "    for t in range(T):\n",
        "        xprev = x[b,:t+1] # (t,C)\n",
        "        xbow[b,t] = torch.mean(xprev, 0)\n"
      ],
      "metadata": {
        "id": "86NuXX0fn7ps"
      },
      "execution_count": 25,
      "outputs": []
    },
    {
      "cell_type": "code",
      "source": [
        "# version 2: using matrix multiply for a weighted aggregation\n",
        "wei = torch.tril(torch.ones(T, T))\n",
        "wei = wei / wei.sum(1, keepdim=True)\n",
        "xbow2 = wei @ x # (B, T, T) @ (B, T, C) ----> (B, T, C)\n",
        "torch.allclose(xbow, xbow2)"
      ],
      "metadata": {
        "colab": {
          "base_uri": "https://localhost:8080/"
        },
        "id": "yhdOAd6-wXkZ",
        "outputId": "d9dc0b4e-d926-488f-e263-77f0396d85e8"
      },
      "execution_count": 26,
      "outputs": [
        {
          "output_type": "execute_result",
          "data": {
            "text/plain": [
              "True"
            ]
          },
          "metadata": {},
          "execution_count": 26
        }
      ]
    },
    {
      "cell_type": "code",
      "source": [
        "# version 3: use Softmax\n",
        "tril = torch.tril(torch.ones(T, T))\n",
        "wei = torch.zeros((T,T))\n",
        "wei = wei.masked_fill(tril == 0, float('-inf'))\n",
        "wei = F.softmax(wei, dim=-1)\n",
        "xbow3 = wei @ x\n",
        "torch.allclose(xbow, xbow3)\n"
      ],
      "metadata": {
        "colab": {
          "base_uri": "https://localhost:8080/"
        },
        "id": "wOURrfG-ysoL",
        "outputId": "ece86b8e-d598-42c5-d327-a04419f4013b"
      },
      "execution_count": 27,
      "outputs": [
        {
          "output_type": "execute_result",
          "data": {
            "text/plain": [
              "True"
            ]
          },
          "metadata": {},
          "execution_count": 27
        }
      ]
    },
    {
      "cell_type": "code",
      "source": [
        "# version 4: self-attention!\n",
        "torch.manual_seed(1337)\n",
        "B,T,C = 4,8,32 # batch, time, channels\n",
        "x = torch.randn(B,T,C)\n",
        "\n",
        "# let's see a single Head perform self-attention\n",
        "head_size = 16\n",
        "key = nn.Linear(C, head_size, bias=False)\n",
        "query = nn.Linear(C, head_size, bias=False)\n",
        "value = nn.Linear(C, head_size, bias=False)\n",
        "k = key(x)   # (B, T, 16)\n",
        "q = query(x) # (B, T, 16)\n",
        "wei =  q @ k.transpose(-2, -1) # (B, T, 16) @ (B, 16, T) ---> (B, T, T)\n",
        "\n",
        "tril = torch.tril(torch.ones(T, T))\n",
        "#wei = torch.zeros((T,T))\n",
        "wei = wei.masked_fill(tril == 0, float('-inf'))\n",
        "wei = F.softmax(wei, dim=-1)\n",
        "\n",
        "v = value(x)\n",
        "out = wei @ v\n",
        "#out = wei @ x\n",
        "\n",
        "out.shape"
      ],
      "metadata": {
        "colab": {
          "base_uri": "https://localhost:8080/"
        },
        "id": "EDarxEWIRMKq",
        "outputId": "39516afc-bfc5-4068-f722-06794f99d162"
      },
      "execution_count": 28,
      "outputs": [
        {
          "output_type": "execute_result",
          "data": {
            "text/plain": [
              "torch.Size([4, 8, 16])"
            ]
          },
          "metadata": {},
          "execution_count": 28
        }
      ]
    },
    {
      "cell_type": "code",
      "source": [
        "wei[0]"
      ],
      "metadata": {
        "colab": {
          "base_uri": "https://localhost:8080/"
        },
        "id": "vT1hdtzXCjgL",
        "outputId": "72b7f93b-1ed6-4c3a-c1ed-1556bfb9ac6f"
      },
      "execution_count": 29,
      "outputs": [
        {
          "output_type": "execute_result",
          "data": {
            "text/plain": [
              "tensor([[1.0000, 0.0000, 0.0000, 0.0000, 0.0000, 0.0000, 0.0000, 0.0000],\n",
              "        [0.1574, 0.8426, 0.0000, 0.0000, 0.0000, 0.0000, 0.0000, 0.0000],\n",
              "        [0.2088, 0.1646, 0.6266, 0.0000, 0.0000, 0.0000, 0.0000, 0.0000],\n",
              "        [0.5792, 0.1187, 0.1889, 0.1131, 0.0000, 0.0000, 0.0000, 0.0000],\n",
              "        [0.0294, 0.1052, 0.0469, 0.0276, 0.7909, 0.0000, 0.0000, 0.0000],\n",
              "        [0.0176, 0.2689, 0.0215, 0.0089, 0.6812, 0.0019, 0.0000, 0.0000],\n",
              "        [0.1691, 0.4066, 0.0438, 0.0416, 0.1048, 0.2012, 0.0329, 0.0000],\n",
              "        [0.0210, 0.0843, 0.0555, 0.2297, 0.0573, 0.0709, 0.2423, 0.2391]],\n",
              "       grad_fn=<SelectBackward0>)"
            ]
          },
          "metadata": {},
          "execution_count": 29
        }
      ]
    },
    {
      "cell_type": "markdown",
      "source": [
        "Notes:\n",
        "- Attention is a **communication mechanism**. Can be seen as nodes in a directed graph looking at each other and aggregating information with a weighted sum from all nodes that point to them, with data-dependent weights.\n",
        "- There is no notion of space. Attention simply acts over a set of vectors. This is why we need to positionally encode tokens.\n",
        "- Each example across batch dimension is of course processed completely independently and never \"talk\" to each other\n",
        "- In an \"encoder\" attention block just delete the single line that does masking with `tril`, allowing all tokens to communicate. This block here is called a \"decoder\" attention block because it has triangular masking, and is usually used in autoregressive settings, like language modeling.\n",
        "- \"self-attention\" just means that the keys and values are produced from the same source as queries. In \"cross-attention\", the queries still get produced from x, but the keys and values come from some other, external source (e.g. an encoder module)\n",
        "- \"Scaled\" attention additional divides `wei` by 1/sqrt(head_size). This makes it so when input Q,K are unit variance, wei will be unit variance too and Softmax will stay diffuse and not saturate too much. Illustration below"
      ],
      "metadata": {
        "id": "M5CvobiQ0pLr"
      }
    },
    {
      "cell_type": "code",
      "source": [
        "k = torch.randn(B,T,head_size)\n",
        "q = torch.randn(B,T,head_size)\n",
        "wei = q @ k.transpose(-2, -1) * head_size**-0.5"
      ],
      "metadata": {
        "id": "4SNbLq5z3oBw"
      },
      "execution_count": 30,
      "outputs": []
    },
    {
      "cell_type": "code",
      "source": [
        "k.var()"
      ],
      "metadata": {
        "colab": {
          "base_uri": "https://localhost:8080/"
        },
        "id": "Nl6I9n9IRTSo",
        "outputId": "932e9f66-32a3-4cb4-a92d-21ba2a737fe9"
      },
      "execution_count": 31,
      "outputs": [
        {
          "output_type": "execute_result",
          "data": {
            "text/plain": [
              "tensor(1.0449)"
            ]
          },
          "metadata": {},
          "execution_count": 31
        }
      ]
    },
    {
      "cell_type": "code",
      "source": [
        "q.var()"
      ],
      "metadata": {
        "colab": {
          "base_uri": "https://localhost:8080/"
        },
        "id": "T1tQx7oeRvtc",
        "outputId": "383d00bb-9f6d-407a-b428-0e273def6023"
      },
      "execution_count": 32,
      "outputs": [
        {
          "output_type": "execute_result",
          "data": {
            "text/plain": [
              "tensor(1.0700)"
            ]
          },
          "metadata": {},
          "execution_count": 32
        }
      ]
    },
    {
      "cell_type": "code",
      "source": [
        "wei.var()"
      ],
      "metadata": {
        "colab": {
          "base_uri": "https://localhost:8080/"
        },
        "id": "MLb_odHU3iKM",
        "outputId": "a6238ac6-355e-4c45-c87a-9bee3f4cdd71"
      },
      "execution_count": 33,
      "outputs": [
        {
          "output_type": "execute_result",
          "data": {
            "text/plain": [
              "tensor(1.0918)"
            ]
          },
          "metadata": {},
          "execution_count": 33
        }
      ]
    },
    {
      "cell_type": "code",
      "source": [
        "torch.softmax(torch.tensor([0.1, -0.2, 0.3, -0.2, 0.5]), dim=-1)"
      ],
      "metadata": {
        "colab": {
          "base_uri": "https://localhost:8080/"
        },
        "id": "JB82yzt44REI",
        "outputId": "46ecda63-ec12-4c55-89a1-ea9fa3a6f969"
      },
      "execution_count": 34,
      "outputs": [
        {
          "output_type": "execute_result",
          "data": {
            "text/plain": [
              "tensor([0.1925, 0.1426, 0.2351, 0.1426, 0.2872])"
            ]
          },
          "metadata": {},
          "execution_count": 34
        }
      ]
    },
    {
      "cell_type": "code",
      "source": [
        "torch.softmax(torch.tensor([0.1, -0.2, 0.3, -0.2, 0.5])*8, dim=-1) # gets too peaky, converges to one-hot"
      ],
      "metadata": {
        "colab": {
          "base_uri": "https://localhost:8080/"
        },
        "id": "Mpt8569BB9_f",
        "outputId": "c293097a-4c8c-46a3-c248-49aeece27763"
      },
      "execution_count": 35,
      "outputs": [
        {
          "output_type": "execute_result",
          "data": {
            "text/plain": [
              "tensor([0.0326, 0.0030, 0.1615, 0.0030, 0.8000])"
            ]
          },
          "metadata": {},
          "execution_count": 35
        }
      ]
    },
    {
      "cell_type": "code",
      "source": [
        "class LayerNorm1d: # (used to be BatchNorm1d)\n",
        "\n",
        "  def __init__(self, dim, eps=1e-5, momentum=0.1):\n",
        "    self.eps = eps\n",
        "    self.gamma = torch.ones(dim)\n",
        "    self.beta = torch.zeros(dim)\n",
        "\n",
        "  def __call__(self, x):\n",
        "    # calculate the forward pass\n",
        "    xmean = x.mean(1, keepdim=True) # batch mean\n",
        "    xvar = x.var(1, keepdim=True) # batch variance\n",
        "    xhat = (x - xmean) / torch.sqrt(xvar + self.eps) # normalize to unit variance\n",
        "    self.out = self.gamma * xhat + self.beta\n",
        "    return self.out\n",
        "\n",
        "  def parameters(self):\n",
        "    return [self.gamma, self.beta]\n",
        "\n",
        "torch.manual_seed(1337)\n",
        "module = LayerNorm1d(100)\n",
        "x = torch.randn(32, 100) # batch size 32 of 100-dimensional vectors\n",
        "x = module(x)\n",
        "x.shape"
      ],
      "metadata": {
        "colab": {
          "base_uri": "https://localhost:8080/"
        },
        "id": "2Num7sX9CKOH",
        "outputId": "858e22b3-7f89-495d-8283-c928b9fddc3f"
      },
      "execution_count": 36,
      "outputs": [
        {
          "output_type": "execute_result",
          "data": {
            "text/plain": [
              "torch.Size([32, 100])"
            ]
          },
          "metadata": {},
          "execution_count": 36
        }
      ]
    },
    {
      "cell_type": "code",
      "source": [
        "x[:,0].mean(), x[:,0].std() # mean,std of one feature across all batch inputs"
      ],
      "metadata": {
        "colab": {
          "base_uri": "https://localhost:8080/"
        },
        "id": "633T2cmnW1uk",
        "outputId": "0a0f1742-cd72-4197-f0ea-7ac4f02a995a"
      },
      "execution_count": 37,
      "outputs": [
        {
          "output_type": "execute_result",
          "data": {
            "text/plain": [
              "(tensor(0.1469), tensor(0.8803))"
            ]
          },
          "metadata": {},
          "execution_count": 37
        }
      ]
    },
    {
      "cell_type": "code",
      "source": [
        "x[0,:].mean(), x[0,:].std() # mean,std of a single input from the batch, of its features"
      ],
      "metadata": {
        "colab": {
          "base_uri": "https://localhost:8080/"
        },
        "id": "LN9cK9BoXCYb",
        "outputId": "6462082f-5d41-4f99-eca2-168ccbb0f34c"
      },
      "execution_count": 38,
      "outputs": [
        {
          "output_type": "execute_result",
          "data": {
            "text/plain": [
              "(tensor(-9.5367e-09), tensor(1.0000))"
            ]
          },
          "metadata": {},
          "execution_count": 38
        }
      ]
    },
    {
      "cell_type": "code",
      "source": [
        "# French to English translation example:\n",
        "\n",
        "# <--------- ENCODE ------------------><--------------- DECODE ----------------->\n",
        "# rada ni safi <START> rada safi bro<END>\n",
        "\n"
      ],
      "metadata": {
        "id": "dRJH6wM_XFfU"
      },
      "execution_count": 41,
      "outputs": []
    },
    {
      "cell_type": "markdown",
      "source": [
        "### Full finished code, for reference\n",
        "\n",
        "You may want to refer directly to the git repo instead though."
      ],
      "metadata": {
        "id": "ZcvKeBXoZFOY"
      }
    },
    {
      "cell_type": "code",
      "source": [
        "import torch\n",
        "import torch.nn as nn\n",
        "from torch.nn import functional as F\n",
        "\n",
        "# hyperparameters\n",
        "batch_size = 16 # how many independent sequences will we process in parallel?\n",
        "block_size = 32 # what is the maximum context length for predictions?\n",
        "max_iters = 5000\n",
        "eval_interval = 100\n",
        "learning_rate = 1e-3\n",
        "device = 'cuda' if torch.cuda.is_available() else 'cpu'\n",
        "eval_iters = 200\n",
        "n_embd = 64\n",
        "n_head = 4\n",
        "n_layer = 4\n",
        "dropout = 0.0\n",
        "# ------------\n",
        "\n",
        "torch.manual_seed(1337)\n",
        "\n",
        "# wget https://github.com/w3slee/kadinali/blob/master/wakadinali.txt\n",
        "with open('wakadinali.txt', 'r', encoding='utf-8') as f:\n",
        "    text = f.read()\n",
        "\n",
        "# here are all the unique characters that occur in this text\n",
        "chars = sorted(list(set(text)))\n",
        "vocab_size = len(chars)\n",
        "# create a mapping from characters to integers\n",
        "stoi = { ch:i for i,ch in enumerate(chars) }\n",
        "itos = { i:ch for i,ch in enumerate(chars) }\n",
        "encode = lambda s: [stoi[c] for c in s] # encoder: take a string, output a list of integers\n",
        "decode = lambda l: ''.join([itos[i] for i in l]) # decoder: take a list of integers, output a string\n",
        "\n",
        "# Train and test splits\n",
        "data = torch.tensor(encode(text), dtype=torch.long)\n",
        "n = int(0.9*len(data)) # first 90% will be train, rest val\n",
        "train_data = data[:n]\n",
        "val_data = data[n:]\n",
        "\n",
        "# data loading\n",
        "def get_batch(split):\n",
        "    # generate a small batch of data of inputs x and targets y\n",
        "    data = train_data if split == 'train' else val_data\n",
        "    ix = torch.randint(len(data) - block_size, (batch_size,))\n",
        "    x = torch.stack([data[i:i+block_size] for i in ix])\n",
        "    y = torch.stack([data[i+1:i+block_size+1] for i in ix])\n",
        "    x, y = x.to(device), y.to(device)\n",
        "    return x, y\n",
        "\n",
        "@torch.no_grad()\n",
        "def estimate_loss():\n",
        "    out = {}\n",
        "    model.eval()\n",
        "    for split in ['train', 'val']:\n",
        "        losses = torch.zeros(eval_iters)\n",
        "        for k in range(eval_iters):\n",
        "            X, Y = get_batch(split)\n",
        "            logits, loss = model(X, Y)\n",
        "            losses[k] = loss.item()\n",
        "        out[split] = losses.mean()\n",
        "    model.train()\n",
        "    return out\n",
        "\n",
        "class Head(nn.Module):\n",
        "    \"\"\" one head of self-attention \"\"\"\n",
        "\n",
        "    def __init__(self, head_size):\n",
        "        super().__init__()\n",
        "        self.key = nn.Linear(n_embd, head_size, bias=False)\n",
        "        self.query = nn.Linear(n_embd, head_size, bias=False)\n",
        "        self.value = nn.Linear(n_embd, head_size, bias=False)\n",
        "        self.register_buffer('tril', torch.tril(torch.ones(block_size, block_size)))\n",
        "\n",
        "        self.dropout = nn.Dropout(dropout)\n",
        "\n",
        "    def forward(self, x):\n",
        "        B,T,C = x.shape\n",
        "        k = self.key(x)   # (B,T,C)\n",
        "        q = self.query(x) # (B,T,C)\n",
        "        # compute attention scores (\"affinities\")\n",
        "        wei = q @ k.transpose(-2,-1) * C**-0.5 # (B, T, C) @ (B, C, T) -> (B, T, T)\n",
        "        wei = wei.masked_fill(self.tril[:T, :T] == 0, float('-inf')) # (B, T, T)\n",
        "        wei = F.softmax(wei, dim=-1) # (B, T, T)\n",
        "        wei = self.dropout(wei)\n",
        "        # perform the weighted aggregation of the values\n",
        "        v = self.value(x) # (B,T,C)\n",
        "        out = wei @ v # (B, T, T) @ (B, T, C) -> (B, T, C)\n",
        "        return out\n",
        "\n",
        "class MultiHeadAttention(nn.Module):\n",
        "    \"\"\" multiple heads of self-attention in parallel \"\"\"\n",
        "\n",
        "    def __init__(self, num_heads, head_size):\n",
        "        super().__init__()\n",
        "        self.heads = nn.ModuleList([Head(head_size) for _ in range(num_heads)])\n",
        "        self.proj = nn.Linear(n_embd, n_embd)\n",
        "        self.dropout = nn.Dropout(dropout)\n",
        "\n",
        "    def forward(self, x):\n",
        "        out = torch.cat([h(x) for h in self.heads], dim=-1)\n",
        "        out = self.dropout(self.proj(out))\n",
        "        return out\n",
        "\n",
        "class FeedFoward(nn.Module):\n",
        "    \"\"\" a simple linear layer followed by a non-linearity \"\"\"\n",
        "\n",
        "    def __init__(self, n_embd):\n",
        "        super().__init__()\n",
        "        self.net = nn.Sequential(\n",
        "            nn.Linear(n_embd, 4 * n_embd),\n",
        "            nn.ReLU(),\n",
        "            nn.Linear(4 * n_embd, n_embd),\n",
        "            nn.Dropout(dropout),\n",
        "        )\n",
        "\n",
        "    def forward(self, x):\n",
        "        return self.net(x)\n",
        "\n",
        "class Block(nn.Module):\n",
        "    \"\"\" Transformer block: communication followed by computation \"\"\"\n",
        "\n",
        "    def __init__(self, n_embd, n_head):\n",
        "        # n_embd: embedding dimension, n_head: the number of heads we'd like\n",
        "        super().__init__()\n",
        "        head_size = n_embd // n_head\n",
        "        self.sa = MultiHeadAttention(n_head, head_size)\n",
        "        self.ffwd = FeedFoward(n_embd)\n",
        "        self.ln1 = nn.LayerNorm(n_embd)\n",
        "        self.ln2 = nn.LayerNorm(n_embd)\n",
        "\n",
        "    def forward(self, x):\n",
        "        x = x + self.sa(self.ln1(x))\n",
        "        x = x + self.ffwd(self.ln2(x))\n",
        "        return x\n",
        "\n",
        "# super simple bigram model\n",
        "class BigramLanguageModel(nn.Module):\n",
        "\n",
        "    def __init__(self):\n",
        "        super().__init__()\n",
        "        # each token directly reads off the logits for the next token from a lookup table\n",
        "        self.token_embedding_table = nn.Embedding(vocab_size, n_embd)\n",
        "        self.position_embedding_table = nn.Embedding(block_size, n_embd)\n",
        "        self.blocks = nn.Sequential(*[Block(n_embd, n_head=n_head) for _ in range(n_layer)])\n",
        "        self.ln_f = nn.LayerNorm(n_embd) # final layer norm\n",
        "        self.lm_head = nn.Linear(n_embd, vocab_size)\n",
        "\n",
        "    def forward(self, idx, targets=None):\n",
        "        B, T = idx.shape\n",
        "\n",
        "        # idx and targets are both (B,T) tensor of integers\n",
        "        tok_emb = self.token_embedding_table(idx) # (B,T,C)\n",
        "        pos_emb = self.position_embedding_table(torch.arange(T, device=device)) # (T,C)\n",
        "        x = tok_emb + pos_emb # (B,T,C)\n",
        "        x = self.blocks(x) # (B,T,C)\n",
        "        x = self.ln_f(x) # (B,T,C)\n",
        "        logits = self.lm_head(x) # (B,T,vocab_size)\n",
        "\n",
        "        if targets is None:\n",
        "            loss = None\n",
        "        else:\n",
        "            B, T, C = logits.shape\n",
        "            logits = logits.view(B*T, C)\n",
        "            targets = targets.view(B*T)\n",
        "            loss = F.cross_entropy(logits, targets)\n",
        "\n",
        "        return logits, loss\n",
        "\n",
        "    def generate(self, idx, max_new_tokens):\n",
        "        # idx is (B, T) array of indices in the current context\n",
        "        for _ in range(max_new_tokens):\n",
        "            # crop idx to the last block_size tokens\n",
        "            idx_cond = idx[:, -block_size:]\n",
        "            # get the predictions\n",
        "            logits, loss = self(idx_cond)\n",
        "            # focus only on the last time step\n",
        "            logits = logits[:, -1, :] # becomes (B, C)\n",
        "            # apply softmax to get probabilities\n",
        "            probs = F.softmax(logits, dim=-1) # (B, C)\n",
        "            # sample from the distribution\n",
        "            idx_next = torch.multinomial(probs, num_samples=1) # (B, 1)\n",
        "            # append sampled index to the running sequence\n",
        "            idx = torch.cat((idx, idx_next), dim=1) # (B, T+1)\n",
        "        return idx\n",
        "\n",
        "model = BigramLanguageModel()\n",
        "m = model.to(device)\n",
        "# print the number of parameters in the model\n",
        "print(sum(p.numel() for p in m.parameters())/1e6, 'M parameters')\n",
        "\n",
        "# create a PyTorch optimizer\n",
        "optimizer = torch.optim.AdamW(model.parameters(), lr=learning_rate)\n",
        "\n",
        "for iter in range(max_iters):\n",
        "\n",
        "    # every once in a while evaluate the loss on train and val sets\n",
        "    if iter % eval_interval == 0 or iter == max_iters - 1:\n",
        "        losses = estimate_loss()\n",
        "        print(f\"step {iter}: train loss {losses['train']:.4f}, val loss {losses['val']:.4f}\")\n",
        "\n",
        "    # sample a batch of data\n",
        "    xb, yb = get_batch('train')\n",
        "\n",
        "    # evaluate the loss\n",
        "    logits, loss = model(xb, yb)\n",
        "    optimizer.zero_grad(set_to_none=True)\n",
        "    loss.backward()\n",
        "    optimizer.step()\n",
        "\n",
        "# generate from the model\n",
        "context = torch.zeros((1, 1), dtype=torch.long, device=device)\n",
        "print(decode(m.generate(context, max_new_tokens=2000)[0].tolist()))\n"
      ],
      "metadata": {
        "colab": {
          "base_uri": "https://localhost:8080/"
        },
        "id": "hoelkOrFY8bN",
        "outputId": "6e7ec620-bcb0-407a-b6f7-d72ceb15d976"
      },
      "execution_count": 44,
      "outputs": [
        {
          "output_type": "stream",
          "name": "stdout",
          "text": [
            "0.213341 M parameters\n",
            "step 0: train loss 4.6834, val loss 4.6424\n",
            "step 100: train loss 2.6365, val loss 2.0893\n",
            "step 200: train loss 2.4998, val loss 2.0192\n",
            "step 300: train loss 2.4470, val loss 2.0243\n",
            "step 400: train loss 2.3921, val loss 1.9875\n",
            "step 500: train loss 2.3407, val loss 2.0035\n",
            "step 600: train loss 2.2903, val loss 1.9783\n",
            "step 700: train loss 2.2630, val loss 1.9349\n",
            "step 800: train loss 2.2170, val loss 1.8911\n",
            "step 900: train loss 2.1615, val loss 1.9255\n",
            "step 1000: train loss 2.1336, val loss 1.8950\n",
            "step 1100: train loss 2.1076, val loss 1.8395\n",
            "step 1200: train loss 2.0537, val loss 1.8359\n",
            "step 1300: train loss 2.0117, val loss 1.8145\n",
            "step 1400: train loss 1.9762, val loss 1.8574\n",
            "step 1500: train loss 1.9634, val loss 1.8304\n",
            "step 1600: train loss 1.9091, val loss 1.7951\n",
            "step 1700: train loss 1.8756, val loss 1.9154\n",
            "step 1800: train loss 1.8170, val loss 1.8088\n",
            "step 1900: train loss 1.7848, val loss 1.8196\n",
            "step 2000: train loss 1.7707, val loss 1.8409\n",
            "step 2100: train loss 1.7097, val loss 1.8735\n",
            "step 2200: train loss 1.6825, val loss 1.9563\n",
            "step 2300: train loss 1.6783, val loss 1.8397\n",
            "step 2400: train loss 1.6297, val loss 1.9530\n",
            "step 2500: train loss 1.6446, val loss 1.9474\n",
            "step 2600: train loss 1.6036, val loss 1.8898\n",
            "step 2700: train loss 1.5577, val loss 1.9114\n",
            "step 2800: train loss 1.5484, val loss 1.9131\n",
            "step 2900: train loss 1.5418, val loss 1.9046\n",
            "step 3000: train loss 1.5022, val loss 1.8972\n",
            "step 3100: train loss 1.4435, val loss 1.9395\n",
            "step 3200: train loss 1.4603, val loss 1.8647\n",
            "step 3300: train loss 1.4496, val loss 1.9377\n",
            "step 3400: train loss 1.4140, val loss 1.9685\n",
            "step 3500: train loss 1.3930, val loss 1.9608\n",
            "step 3600: train loss 1.3831, val loss 1.9767\n",
            "step 3700: train loss 1.3635, val loss 2.0201\n",
            "step 3800: train loss 1.3579, val loss 1.9149\n",
            "step 3900: train loss 1.3253, val loss 2.0023\n",
            "step 4000: train loss 1.3138, val loss 1.9921\n",
            "step 4100: train loss 1.2869, val loss 2.0106\n",
            "step 4200: train loss 1.2696, val loss 2.0853\n",
            "step 4300: train loss 1.2799, val loss 2.0256\n",
            "step 4400: train loss 1.2440, val loss 2.0516\n",
            "step 4500: train loss 1.2223, val loss 1.9735\n",
            "step 4600: train loss 1.2376, val loss 2.1013\n",
            "step 4700: train loss 1.2030, val loss 2.1299\n",
            "step 4800: train loss 1.2073, val loss 2.1494\n",
            "step 4900: train loss 1.1960, val loss 2.0771\n",
            "step 4999: train loss 1.1510, val loss 2.1085\n",
            " nadai kuje maagmbwa pia andeng'a\",\"Na-naskanga ma sidi mambi ya chuome\",\"Mungaha hii runihimua sizimpiraa\",\"Natoka Tukikwa gwari kahali\",\"Kubuy-na homezi zenyesha meMoru enjuma\",\"Nimeni za nyanya,on\"Pesasi na ma-pewkinerpot, nasent\",\"Kamanishao naezaga kushana mwipin' akaka kaa mboshaa, unazimanipa anacongani avako\",\"Ka huo beah ni mdem na na Domani]\",\"Jutokeea ya Wenya mininikwa alifanya plia akujiwa ma atisimba tukeru I hater it'al Rourima\",\"Na saidenge waliumbiwa na anaivel, badi alipumua tourion\",\"Niko forch'ado nafisho natamboka\",\"Kusupa wa msy kongo wa hatuspotea sirrkiche kwa juy Inzinena\",\"[Verse 2: Exper DDwama Munga Mraraon\",\"Msicha amende inaimpa\",\"Haja usanisha hiyo mnanipatesha shole Don yangu wanipate mbakanga Mongo\",\"MC still MCA\",\"USA, USB na kawa mjaphiwa bleina tukiwe ni pia makacha\",\"Mi bado sima hupangwa chighe mi but con't\",\"Vibars, naDomani ka ning'anya\",\"PI1}5\":\"206478,\"filtLa-rangin\":\"fuleets)\":\"v747756Y?567410456973E56737:17041800500078Zf7w\",\"Madinali.t=duntOnch VMkadinally, nabnga alikuwa over na hungeper I'm wattoens nao, hizo mmesher nitooka Mkadina\",\"Hakunaskia msigizi\",\"Rhtenye mambanya mbrrrcr inappe, huha\",\"Masarbidaharwa hugizi\",\"Burumu huyo kufinje kazi\",\"Na kandeng't huta-kers nazidungoz za mamnyamana\",\"Naskayaisha likuwa naeza nishaa mbogi naniabonga nanaeza nara\",\"Madaingeus magange inatepa, Extrapion\",\"I’m soo wananing'embani]\",\"Wavedinafa kwa ameketa kajanya\",\"Na misita kukuwana unazimwa\",\"Na mawhaps ka ungwamba uhaps ka unang'am, na mawaziz Madinali]\",\"Yo, alikuwa wanaskinza mandeni\",\"Na-na-buy-ia ni obeerT\",\"Ha ukinitoka kwa akitama\",\"Ka peng-ting ku huratungu nangware na sina-ven, mabong\\\"\",\"Niko mjaili lightor\",\"Nikakageumua hii kahitu baycs\",\"Last tukini heritu kwa aros nawameza sisi tuku sisazi\",\"Rame ndranya stuper huyo ni tukurutohtuni\",\"Firt then ku rrowech fori eh loutee\",\"Na gut hiz nenot fanaisha, hatufuna haja happenita\",\"Onaw wakars na kasanda na tupatutasus\",\"Msupa wa ananiita vubaya\",\"ADHD ndani ya Aliknanga mna\n"
          ]
        }
      ]
    },
    {
      "cell_type": "code",
      "source": [],
      "metadata": {
        "id": "fjjvMifYZf7x"
      },
      "execution_count": null,
      "outputs": []
    }
  ]
}